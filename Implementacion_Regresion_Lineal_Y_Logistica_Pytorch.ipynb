{
  "nbformat": 4,
  "nbformat_minor": 0,
  "metadata": {
    "colab": {
      "name": "Implementacion Regresion Lineal Y Logistica Pytorch.ipynb",
      "provenance": [],
      "authorship_tag": "ABX9TyNa8Ad2S2Xsx727QiDIDz2f",
      "include_colab_link": true
    },
    "kernelspec": {
      "name": "python3",
      "display_name": "Python 3"
    }
  },
  "cells": [
    {
      "cell_type": "markdown",
      "metadata": {
        "id": "view-in-github",
        "colab_type": "text"
      },
      "source": [
        "<a href=\"https://colab.research.google.com/github/imazzala/Introduccion-Machine-Learning-Pytorch/blob/main/Implementacion_Regresion_Lineal_Y_Logistica_Pytorch.ipynb\" target=\"_parent\"><img src=\"https://colab.research.google.com/assets/colab-badge.svg\" alt=\"Open In Colab\"/></a>"
      ]
    },
    {
      "cell_type": "markdown",
      "metadata": {
        "id": "HIWtiMMgazWu"
      },
      "source": [
        "### Librerías:\n",
        "\n",
        "\n",
        "\n",
        "*   **torch.nn**: es el módulo de redes neuronales de Pytorch. Dentro de él se encuentran los elementos de la regresión lineal. \n",
        "*   **torch.optim**: este módulo tiene los elementos de optimización. Con el podemos calcular los gradientes y realizar backpropagation.\n",
        "\n"
      ]
    },
    {
      "cell_type": "code",
      "metadata": {
        "id": "AHk1dGexIhUv"
      },
      "source": [
        "import torch\n",
        "import numpy as np\n",
        "import torch.nn as nn\n",
        "import torch.optim as optim\n",
        "import matplotlib.pyplot as plt"
      ],
      "execution_count": 1,
      "outputs": []
    },
    {
      "cell_type": "markdown",
      "metadata": {
        "id": "tcpElGS3bUgG"
      },
      "source": [
        "# Regresión Lineal\n"
      ]
    },
    {
      "cell_type": "markdown",
      "metadata": {
        "id": "NjDv2Zn_bbfy"
      },
      "source": [
        "El problema se centra en explicar las unidades vendidas de automóviles explicadas por los precios. "
      ]
    },
    {
      "cell_type": "code",
      "metadata": {
        "colab": {
          "base_uri": "https://localhost:8080/",
          "height": 282
        },
        "id": "n8ZSdOJ9aT6c",
        "outputId": "1c016809-fc68-46c3-827b-4389c8eaa077"
      },
      "source": [
        "car_prices = [5, 6, 7, 8, 9, 10]\n",
        "unit_sold = [8.5, 8, 7.5, 7.0, 6.5, 6.0]\n",
        "\n",
        "plt.scatter(car_prices, unit_sold)"
      ],
      "execution_count": 3,
      "outputs": [
        {
          "output_type": "execute_result",
          "data": {
            "text/plain": [
              "<matplotlib.collections.PathCollection at 0x7fc0e2b26898>"
            ]
          },
          "metadata": {
            "tags": []
          },
          "execution_count": 3
        },
        {
          "output_type": "display_data",
          "data": {
            "image/png": "[encoded data removed]",
            "text/plain": [
              "<Figure size 432x288 with 1 Axes>"
            ]
          },
          "metadata": {
            "tags": [],
            "needs_background": "light"
          }
        }
      ]
    },
    {
      "cell_type": "markdown",
      "metadata": {
        "id": "igau3hU-cSUp"
      },
      "source": [
        "Convertimos el array de Python a uno de numpy para luego poder pasarlo al formato de tensor de Pytorch. Se debe notar que reescribimos el array en forma de columnas"
      ]
    },
    {
      "cell_type": "code",
      "metadata": {
        "id": "tVr_F_C7b0Oy"
      },
      "source": [
        "prices_array = np.array(car_prices).reshape(-1, 1)\n",
        "units_array = np.array(unit_sold).reshape(-1, 1)"
      ],
      "execution_count": 15,
      "outputs": []
    },
    {
      "cell_type": "markdown",
      "metadata": {
        "id": "nMCCzWjtdDmE"
      },
      "source": [
        "Convertimos los array en Tensores. Vamos a requerir el gradiente sobre la variable prices, por ese motivo se agrega al final el método \"requires_grad_\". Los guiones bajos implican que se va a modificar el tensor para aplicar los gradientes."
      ]
    },
    {
      "cell_type": "code",
      "metadata": {
        "colab": {
          "base_uri": "https://localhost:8080/"
        },
        "id": "tZohd4VXcim_",
        "outputId": "af33f714-612d-44a3-80e0-00b7814124b5"
      },
      "source": [
        "prices = torch.from_numpy(prices_array).float().requires_grad_(True)\n",
        "units = torch.from_numpy(units_array).float()\n",
        "prices, prices.shape"
      ],
      "execution_count": 22,
      "outputs": [
        {
          "output_type": "execute_result",
          "data": {
            "text/plain": [
              "(tensor([[ 5.],\n",
              "         [ 6.],\n",
              "         [ 7.],\n",
              "         [ 8.],\n",
              "         [ 9.],\n",
              "         [10.]], requires_grad=True), torch.Size([6, 1]))"
            ]
          },
          "metadata": {
            "tags": []
          },
          "execution_count": 22
        }
      ]
    },
    {
      "cell_type": "markdown",
      "metadata": {
        "id": "Uzkze5DpebEx"
      },
      "source": [
        "Creamos el modelo\n",
        "\n",
        "El método linear recibe las dimensiones de entrada y salida. En este caso 1 para ambos. \n",
        "\n",
        "Recordemos que el proceso de aprendizaje consta de 3 etapas:\n",
        "\n",
        "\n",
        "\n",
        "*   **Forward Pass**: Ejecutar la predicción\n",
        "*   **BackPropagation**: Analizar si las predicciones son correctas en distintas iteraciones\n",
        "*   **Optimización**: A partir de buscar el mínimo de la función Loss a través del gradiente descendente.\n",
        "\n",
        "\n",
        "La función de Loss o pérdida es la que se busca minimzar, también se encuentra dentro del módulo nn. \n",
        "\n",
        "El optimizador SDG (Stocastic gradient Decendent) se utiliza para hallar el mínimo de una función.  El algoritmo toma un punto aleatorio de la función (de ahí el nombre estocástico), luego calcula el gradiente y se desplaza hasta alcanzar el mínimos de la función. Los pasos que recorre el algoritmo está asociado al learning rate. Si los pasos son pocos, es posible que el algoritmo no encuentre el mínimo. Si los pasos son muchos, puede sobrepasarse eternamente del mínimo generando un bucle infinito. \n",
        "\n",
        "loss.backward(): calcula dloss/dx para cada parámetro que tiene requires_grad = True. Esto se acumula en x.grad para cada parámetro de x. En seudocódigo sería x.grad += dloss/dx.\n",
        "\n",
        "Optimizer.step(): actualiza el valor de x utilizando x.grad. En este caso con el optimizador SGD el sistema ejecuta x += -lr * x.grad\n",
        "\n",
        "Optimizer.zero(): limpia x.grad para cada parámetro por el optimizador. Es importante llamar a esta función antes del loss.backward, ya que caso contrario acumula los gradientes de pasos anteriores.\n",
        "\n",
        "Link super útil https://www.youtube.com/watch?v=A6FiCDoz8_4"
      ]
    },
    {
      "cell_type": "code",
      "metadata": {
        "colab": {
          "base_uri": "https://localhost:8080/",
          "height": 299
        },
        "id": "UAoFt3WeecHq",
        "outputId": "534d8959-d7b2-4c26-c8b8-cf5c21d927d6"
      },
      "source": [
        "model = nn.Linear(1, 1)\n",
        "loss_function = nn.MSELoss()\n",
        "optimizer = optim.SGD(model.parameters(), lr = 0.015)\n",
        "\n",
        "losses = []\n",
        "iterations = 2000\n",
        "\n",
        "for i in range(iterations):\n",
        "  pred = model(prices)\n",
        "  loss = loss_function(pred, units)\n",
        "  losses.append(loss.data)\n",
        "\n",
        "  optimizer.zero_grad()\n",
        "  loss.backward()\n",
        "  optimizer.step()\n",
        "\n",
        "print(float(loss))\n",
        "plt.plot(range(iterations), losses)"
      ],
      "execution_count": 33,
      "outputs": [
        {
          "output_type": "stream",
          "text": [
            "0.01975010707974434\n"
          ],
          "name": "stdout"
        },
        {
          "output_type": "execute_result",
          "data": {
            "text/plain": [
              "[<matplotlib.lines.Line2D at 0x7fc0e1465358>]"
            ]
          },
          "metadata": {
            "tags": []
          },
          "execution_count": 33
        },
        {
          "output_type": "display_data",
          "data": {
            "image/png": "[encoded data removed]",
            "text/plain": [
              "<Figure size 432x288 with 1 Axes>"
            ]
          },
          "metadata": {
            "tags": [],
            "needs_background": "light"
          }
        }
      ]
    },
    {
      "cell_type": "markdown",
      "metadata": {
        "id": "HcSmu8MnmoGn"
      },
      "source": [
        "Calculamos una predicción\n",
        "\n",
        "Vemos que tiene lógica el resultado, ya que si el precio es de 4, se vende mayor cantidad de unidades tal como se esperaba."
      ]
    },
    {
      "cell_type": "code",
      "metadata": {
        "colab": {
          "base_uri": "https://localhost:8080/"
        },
        "id": "0NEywej9fjzC",
        "outputId": "4ef0b75c-6cea-43ea-b7b7-5a9cbc756fa2"
      },
      "source": [
        "x = torch.Tensor([4.0])\n",
        "p = model(x)\n",
        "p"
      ],
      "execution_count": 34,
      "outputs": [
        {
          "output_type": "execute_result",
          "data": {
            "text/plain": [
              "tensor([8.6887], grad_fn=<AddBackward0>)"
            ]
          },
          "metadata": {
            "tags": []
          },
          "execution_count": 34
        }
      ]
    },
    {
      "cell_type": "markdown",
      "metadata": {
        "id": "gGZyY04ps0qi"
      },
      "source": [
        "# Regresión Logística\n"
      ]
    },
    {
      "cell_type": "markdown",
      "metadata": {
        "id": "Asfw0-_8zVG0"
      },
      "source": [
        "En primer lugar se van a generar una serie de datos aleatorios, que se van a seprar de forma que sea más obvia la clasificación. Luego se va a generar el modelo y finalmente se realizará una predicción.\n",
        "\n",
        "En primer lugar generamos una serie de datos aleatorios con Numpy y los centramos entre x = (-3, 3)  y = (-3, 3)\n"
      ]
    },
    {
      "cell_type": "code",
      "metadata": {
        "colab": {
          "base_uri": "https://localhost:8080/"
        },
        "id": "k3dEXBnvyxc5",
        "outputId": "78cdefbb-0494-4b38-8545-7113fb384adc"
      },
      "source": [
        "n = 100\n",
        "h = 100 // 2\n",
        "dimen = 2\n",
        "\n",
        "data = np.random.randn(n, dimen)*3\n",
        "data"
      ],
      "execution_count": 8,
      "outputs": [
        {
          "output_type": "execute_result",
          "data": {
            "text/plain": [
              "array([[ 5.74649031,  2.63967778],\n",
              "       [-0.90556563, -3.38724773],\n",
              "       [-0.83065969, -0.77012099],\n",
              "       [ 0.62066994,  1.16985876],\n",
              "       [-0.67452066,  0.62216291],\n",
              "       [-1.4392291 , -0.13289983],\n",
              "       [-0.0277925 , -1.28520331],\n",
              "       [ 4.67937819, -5.4311756 ],\n",
              "       [ 3.60964277, -2.36907319],\n",
              "       [-4.6164862 , -6.84896384],\n",
              "       [-4.62071388, -3.45540733],\n",
              "       [-1.18302891,  0.90004881],\n",
              "       [-4.73369619, -2.64392859],\n",
              "       [ 4.09136709,  2.17293994],\n",
              "       [-0.37037926, -0.19200806],\n",
              "       [-0.6038084 ,  2.17505601],\n",
              "       [-2.20026894, -3.27572479],\n",
              "       [-1.13770957,  1.71415847],\n",
              "       [-1.4254546 ,  1.43851619],\n",
              "       [ 2.2415645 ,  1.00835683],\n",
              "       [-0.32950133, -1.16303523],\n",
              "       [ 3.17028302,  8.62721751],\n",
              "       [ 0.58792138, -0.21176478],\n",
              "       [ 1.82435802, -0.15126692],\n",
              "       [-4.17132477, -1.22136286],\n",
              "       [ 0.24089787,  0.38382447],\n",
              "       [-0.62629323, -5.34875572],\n",
              "       [ 1.1413572 , -4.1073515 ],\n",
              "       [-1.33151646, -1.19026753],\n",
              "       [ 1.78694186,  0.2199299 ],\n",
              "       [-4.15012903,  2.00259307],\n",
              "       [-7.24447759,  4.37272691],\n",
              "       [ 0.68357274, -4.6956751 ],\n",
              "       [ 2.01761419,  3.59768045],\n",
              "       [ 1.55731042,  5.05373753],\n",
              "       [-4.01540302,  1.34326313],\n",
              "       [ 2.51698525,  0.6644988 ],\n",
              "       [-0.60668295, -0.09809543],\n",
              "       [ 0.14541958, -0.39889884],\n",
              "       [-0.73170289, -2.31107169],\n",
              "       [ 1.85763136, -2.41415513],\n",
              "       [ 2.58018387,  8.48119048],\n",
              "       [ 0.0251655 , -0.27290868],\n",
              "       [-2.16897639, -1.09062762],\n",
              "       [ 9.88501462,  0.98508973],\n",
              "       [-1.34768366,  0.1210101 ],\n",
              "       [ 1.17734088,  4.411833  ],\n",
              "       [ 2.7774505 , -0.07082749],\n",
              "       [-3.08990828, -3.31147915],\n",
              "       [-7.66130946,  7.24463949],\n",
              "       [ 3.5051925 ,  4.24921662],\n",
              "       [-3.18933627, -0.55997645],\n",
              "       [-3.12901936,  2.98164807],\n",
              "       [ 1.21801579,  0.49622275],\n",
              "       [ 2.47757983, -4.1114511 ],\n",
              "       [-0.86999504,  1.0046429 ],\n",
              "       [ 2.16328098, -3.56309561],\n",
              "       [-3.57269497,  3.24379613],\n",
              "       [-1.32230224,  4.05925939],\n",
              "       [-2.62798047, -2.96097826],\n",
              "       [-0.90328734, -2.00495549],\n",
              "       [-1.29296419,  0.82323907],\n",
              "       [ 1.58345477,  4.02804567],\n",
              "       [ 0.71742073, -2.2841759 ],\n",
              "       [-3.83223606,  1.42032864],\n",
              "       [-1.61287623, -6.84200896],\n",
              "       [-1.15924618, -4.25950965],\n",
              "       [-0.67587165,  2.84550821],\n",
              "       [ 5.78159337, -3.00663457],\n",
              "       [-1.05332662,  0.18464729],\n",
              "       [-2.97716172, -2.41937929],\n",
              "       [-1.2714454 ,  1.55510781],\n",
              "       [-2.53929438, -0.02134166],\n",
              "       [ 0.56268934, -0.71212221],\n",
              "       [-0.60308114,  0.88960022],\n",
              "       [-2.05672288, -3.3736843 ],\n",
              "       [-2.18718856, -0.21862034],\n",
              "       [ 2.72572002,  2.0314884 ],\n",
              "       [ 0.92622163, -0.73156748],\n",
              "       [-2.73673978, -4.79360198],\n",
              "       [ 3.32803029,  0.15244752],\n",
              "       [-2.88131345, -1.8350874 ],\n",
              "       [-3.46196611,  2.14943829],\n",
              "       [-3.5657415 ,  3.12880265],\n",
              "       [ 0.74293424,  0.72603352],\n",
              "       [ 4.03152455, -0.03089333],\n",
              "       [-0.05315519, -3.63898562],\n",
              "       [-1.97144051, -3.31758345],\n",
              "       [ 1.75506754, -5.7361848 ],\n",
              "       [ 1.95539006, -3.07376992],\n",
              "       [ 9.20659758, -2.33632723],\n",
              "       [ 5.04433262,  1.61395552],\n",
              "       [ 0.54981949,  1.11250761],\n",
              "       [ 7.06615367,  0.68456644],\n",
              "       [ 2.31944339,  1.21698312],\n",
              "       [ 2.11205558,  1.20999178],\n",
              "       [ 0.60813249, -4.28370455],\n",
              "       [-1.75160968,  2.50111997],\n",
              "       [-1.56306226,  4.79132424],\n",
              "       [-4.28857815, -3.67484754]])"
            ]
          },
          "metadata": {
            "tags": []
          },
          "execution_count": 8
        }
      ]
    },
    {
      "cell_type": "markdown",
      "metadata": {
        "id": "VcMMiamg5mR0"
      },
      "source": [
        "Tomamos la primer columna como x y la segunda como y"
      ]
    },
    {
      "cell_type": "code",
      "metadata": {
        "colab": {
          "base_uri": "https://localhost:8080/",
          "height": 282
        },
        "id": "_XkszV_713IT",
        "outputId": "ea9779a6-b4e1-4309-e16d-7067fbbae6dd"
      },
      "source": [
        "plt.scatter(data[:,0], data[:,1])"
      ],
      "execution_count": 9,
      "outputs": [
        {
          "output_type": "execute_result",
          "data": {
            "text/plain": [
              "<matplotlib.collections.PathCollection at 0x7fa110c76b00>"
            ]
          },
          "metadata": {
            "tags": []
          },
          "execution_count": 9
        },
        {
          "output_type": "display_data",
          "data": {
            "image/png": "[encoded data removed]",
            "text/plain": [
              "<Figure size 432x288 with 1 Axes>"
            ]
          },
          "metadata": {
            "tags": [],
            "needs_background": "light"
          }
        }
      ]
    },
    {
      "cell_type": "markdown",
      "metadata": {
        "id": "ow3q98Iw5tAe"
      },
      "source": [
        "Vamos a reorganizar los datos para que queden más centrados entre dos grupos bien visibles centrados 3 y -3."
      ]
    },
    {
      "cell_type": "code",
      "metadata": {
        "id": "pl6SH3Id2ETV"
      },
      "source": [
        "data[:h,:] = data[:h, :] - 3 * np.ones((h, dimen))"
      ],
      "execution_count": 13,
      "outputs": []
    },
    {
      "cell_type": "code",
      "metadata": {
        "id": "eT3pQjaj4CnX"
      },
      "source": [
        "data[h:,:] = data[h:,:] + 3 * np.ones((h, dimen)) "
      ],
      "execution_count": 14,
      "outputs": []
    },
    {
      "cell_type": "code",
      "metadata": {
        "colab": {
          "base_uri": "https://localhost:8080/",
          "height": 282
        },
        "id": "sAVHTRSn6UE9",
        "outputId": "ac8fe92e-2238-40f0-e3d4-f0050195ea7c"
      },
      "source": [
        "colors = ['blue', 'red']\n",
        "color = np.array([colors[0]] * h + [colors[1]]*h).reshape(n)\n",
        "plt.scatter(data[:,0], data[:,1], c = color, alpha = 0.6)"
      ],
      "execution_count": 19,
      "outputs": [
        {
          "output_type": "execute_result",
          "data": {
            "text/plain": [
              "<matplotlib.collections.PathCollection at 0x7fa1109d0358>"
            ]
          },
          "metadata": {
            "tags": []
          },
          "execution_count": 19
        },
        {
          "output_type": "display_data",
          "data": {
            "image/png": "[encoded data removed]",
            "text/plain": [
              "<Figure size 432x288 with 1 Axes>"
            ]
          },
          "metadata": {
            "tags": [],
            "needs_background": "light"
          }
        }
      ]
    },
    {
      "cell_type": "markdown",
      "metadata": {
        "id": "r2BUDYvN8EVs"
      },
      "source": [
        "Creamos un array para los targets. 100 unidades con 0 y 1 y creamos los tensores"
      ]
    },
    {
      "cell_type": "code",
      "metadata": {
        "colab": {
          "base_uri": "https://localhost:8080/"
        },
        "id": "qnVX9_e76YLd",
        "outputId": "321fe19c-e935-45ee-e571-9b975a40d948"
      },
      "source": [
        "target = np.array([0] * h + [1]*h).reshape(n,1)\n",
        "x = torch.from_numpy(data).float().requires_grad_(True)\n",
        "y = torch.from_numpy(target).float()\n",
        "x.shape, y.shape"
      ],
      "execution_count": 23,
      "outputs": [
        {
          "output_type": "execute_result",
          "data": {
            "text/plain": [
              "(torch.Size([100, 2]), torch.Size([100, 1]))"
            ]
          },
          "metadata": {
            "tags": []
          },
          "execution_count": 23
        }
      ]
    },
    {
      "cell_type": "markdown",
      "metadata": {
        "id": "F6fl6g9b9GXj"
      },
      "source": [
        "Creamos el modelo"
      ]
    },
    {
      "cell_type": "markdown",
      "metadata": {
        "id": "dzehul2H9YbP"
      },
      "source": [
        "En este caso necesitamos el modelo lineal y la función sigmoide. El método nn.Sequential nos permite combinar estas dos fuciones."
      ]
    },
    {
      "cell_type": "code",
      "metadata": {
        "colab": {
          "base_uri": "https://localhost:8080/",
          "height": 282
        },
        "id": "2gAH186C7XSD",
        "outputId": "d9c4f3e1-4426-4c08-a8e6-a479ae0c2504"
      },
      "source": [
        "model = nn.Sequential(\n",
        "        nn.Linear(2,1), \n",
        "        nn.Sigmoid()\n",
        "        )\n",
        "\n",
        "loss_function = nn.BCELoss()\n",
        "optimizer = optim.SGD(model.parameters(), lr = 0.015)\n",
        "\n",
        "losses = []\n",
        "iterations = 2000\n",
        "\n",
        "for i in range(iterations):\n",
        "  result = model(x)\n",
        "  loss = loss_function(result, y)\n",
        "  losses.append(loss.data)\n",
        "\n",
        "  optimizer.zero_grad()\n",
        "  loss.backward()\n",
        "  optimizer.step()\n",
        "\n",
        "plt.plot(range(iterations), losses)\n"
      ],
      "execution_count": 30,
      "outputs": [
        {
          "output_type": "execute_result",
          "data": {
            "text/plain": [
              "[<matplotlib.lines.Line2D at 0x7fa1109fb1d0>]"
            ]
          },
          "metadata": {
            "tags": []
          },
          "execution_count": 30
        },
        {
          "output_type": "display_data",
          "data": {
            "image/png": "[encoded data removed]",
            "text/plain": [
              "<Figure size 432x288 with 1 Axes>"
            ]
          },
          "metadata": {
            "tags": [],
            "needs_background": "light"
          }
        }
      ]
    },
    {
      "cell_type": "markdown",
      "metadata": {
        "id": "yIWqW_ABBMHA"
      },
      "source": [
        ""
      ]
    },
    {
      "cell_type": "code",
      "metadata": {
        "colab": {
          "base_uri": "https://localhost:8080/"
        },
        "id": "mq7qRyo7A4cd",
        "outputId": "fc7aa50f-3760-4625-d222-aa285399ec42"
      },
      "source": [
        "blue = torch.Tensor([[-5, -6]])\n",
        "prediction = model(blue).data[0][0] > 0.5\n",
        "print(colors[prediction])\n",
        "\n",
        "red = torch.Tensor([[8, 6]])\n",
        "prediction = model(red).data[0][0] > 0.5\n",
        "print(colors[prediction])"
      ],
      "execution_count": 35,
      "outputs": [
        {
          "output_type": "stream",
          "text": [
            "blue\n",
            "red\n"
          ],
          "name": "stdout"
        }
      ]
    },
    {
      "cell_type": "markdown",
      "metadata": {
        "id": "NRBv1Vy0C7PZ"
      },
      "source": [
        "La mayor dificultad del modelo se encuentra en la zona media donde se produce la división entre los grupos. Para visualizarlo es necesario utilizar los parámetros del modelo. "
      ]
    },
    {
      "cell_type": "code",
      "metadata": {
        "colab": {
          "base_uri": "https://localhost:8080/",
          "height": 282
        },
        "id": "1M7hcxrfBnnv",
        "outputId": "4c4bc9fa-f254-4269-c132-fb21f894c37f"
      },
      "source": [
        "w = list(model.parameters())\n",
        "w0 = w[0].data.numpy()\n",
        "w1 = w[1].data.numpy()\n",
        "\n",
        "plt.scatter(data[:,0], data[:,1], c = color, s = 75, alpha = 0.6)\n",
        "\n",
        "x_axis = np.linspace(-10, 10, n)\n",
        "y_axis = -(w1[0] + x_axis * w0[0][0]) / w0[0][1]\n",
        "plt.plot(x_axis, y_axis, 'g--')"
      ],
      "execution_count": 38,
      "outputs": [
        {
          "output_type": "execute_result",
          "data": {
            "text/plain": [
              "[<matplotlib.lines.Line2D at 0x7fa10fd8abe0>]"
            ]
          },
          "metadata": {
            "tags": []
          },
          "execution_count": 38
        },
        {
          "output_type": "display_data",
          "data": {
            "image/png": "[encoded data removed]",
            "text/plain": [
              "<Figure size 432x288 with 1 Axes>"
            ]
          },
          "metadata": {
            "tags": [],
            "needs_background": "light"
          }
        }
      ]
    }
  ]
}